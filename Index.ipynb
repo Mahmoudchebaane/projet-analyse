{
  "cells": [
    {
      "attachments": {},
      "cell_type": "markdown",
      "metadata": {
        "colab_type": "text",
        "id": "view-in-github"
      },
      "source": [
        "<a href=\"https://colab.research.google.com/github/Mahmoudchebaane/projet-analyse/blob/main/Index.ipynb\" target=\"_parent\"><img src=\"https://colab.research.google.com/assets/colab-badge.svg\" alt=\"Open In Colab\"/></a>"
      ]
    },
    {
      "cell_type": "code",
      "execution_count": null,
      "metadata": {
        "id": "Zq9qIDvVf3l9"
      },
      "outputs": [],
      "source": [
        "import pandas as pd\n",
        "import matplotlib.pyplot as plt"
      ]
    },
    {
      "attachments": {},
      "cell_type": "markdown",
      "metadata": {
        "id": "hPJhzgPyf3l-"
      },
      "source": [
        "# Dataset"
      ]
    },
    {
      "cell_type": "code",
      "execution_count": null,
      "metadata": {
        "id": "URhroPB5f3mA"
      },
      "outputs": [],
      "source": [
        "df=pd.read_csv(\"https://github.com/Mahmoudchebaane/projet-analyse/raw/main/Data/data.csv\")"
      ]
    },
    {
      "cell_type": "code",
      "execution_count": null,
      "metadata": {
        "id": "tkz_oUtBf3mA",
        "outputId": "afdc00ce-e8a9-41eb-b663-2936675f9e83"
      },
      "outputs": [],
      "source": [
        "df.shape"
      ]
    },
    {
      "cell_type": "code",
      "execution_count": null,
      "metadata": {
        "id": "K3Hasifsf3mA",
        "outputId": "28ccca24-b815-4d15-a7db-be32cab05b6e"
      },
      "outputs": [],
      "source": [
        "df.describe()"
      ]
    },
    {
      "cell_type": "code",
      "execution_count": null,
      "metadata": {
        "id": "8BK00WbQf3mB",
        "outputId": "2ff0b598-fa31-44f0-89bd-712aca642220"
      },
      "outputs": [],
      "source": [
        "df.info()"
      ]
    },
    {
      "cell_type": "code",
      "execution_count": null,
      "metadata": {
        "id": "JuqINCDnf3mB",
        "outputId": "bf54d86f-0e7b-45a3-9cb3-c34f487a94f8"
      },
      "outputs": [],
      "source": [
        "df.columns"
      ]
    },
    {
      "cell_type": "code",
      "execution_count": null,
      "metadata": {
        "id": "nbrsjFOTf3mB",
        "outputId": "b3d142ea-9be2-4575-c073-1fdf07798a37"
      },
      "outputs": [],
      "source": [
        "df.head(3)"
      ]
    },
    {
      "cell_type": "code",
      "execution_count": null,
      "metadata": {
        "id": "-PHCalabf3mB",
        "outputId": "892fb620-5fde-42d0-e644-402f759c6ce4"
      },
      "outputs": [],
      "source": [
        "df.type"
      ]
    },
    {
      "cell_type": "code",
      "execution_count": null,
      "metadata": {
        "id": "z_4KrJTpf3mB",
        "outputId": "c183f40c-6d73-4a93-ff63-ba8600d28218"
      },
      "outputs": [],
      "source": [
        "print(df.head(2).to_markdown())"
      ]
    },
    {
      "cell_type": "code",
      "execution_count": null,
      "metadata": {
        "id": "x7KJvbLXf3mC",
        "outputId": "746022cb-38cc-44a0-9b36-520e9851cf27"
      },
      "outputs": [],
      "source": [
        "df.describe()"
      ]
    },
    {
      "cell_type": "code",
      "execution_count": null,
      "metadata": {
        "id": "7Pu8F_x-f3mC",
        "outputId": "476b2bb3-ec76-4b74-cd6e-fe0261c09633"
      },
      "outputs": [],
      "source": [
        "# Exploration de la variété par type\n",
        "variety_by_type = df['type'].value_counts()\n",
        "print(\"Variety by Type:\")\n",
        "print(variety_by_type)\n"
      ]
    },
    {
      "cell_type": "code",
      "execution_count": null,
      "metadata": {
        "id": "YrhOhg2Xf3mC",
        "outputId": "93838c66-27cd-4b4b-8bd1-cac7920e21b6"
      },
      "outputs": [],
      "source": [
        "# Exploration de la variété par pays\n",
        "variety_by_country = df['country'].value_counts()\n",
        "print(\"\\Variety by Country:\")\n",
        "print(variety_by_country)"
      ]
    },
    {
      "cell_type": "code",
      "execution_count": null,
      "metadata": {
        "id": "AhG7J0CMf3mC",
        "outputId": "0447100b-cd65-40b0-caf8-b5c1f3415d06"
      },
      "outputs": [],
      "source": [
        "# Exploration de la variété par catégorie de contenu\n",
        "variety_by_listed_in = df['listed_in'].value_counts()\n",
        "print(\"\\nVariety by Listed_in:\")\n",
        "print(variety_by_listed_in)"
      ]
    },
    {
      "cell_type": "code",
      "execution_count": null,
      "metadata": {
        "id": "4QaQGU80f3mD",
        "outputId": "45d7bc55-41f9-4841-deb9-c6ae117b6fee"
      },
      "outputs": [],
      "source": [
        "# Exploration de la variété par type\n",
        "variety_by_type = df['type'].value_counts().head(10)\n",
        "plt.figure(figsize=(8, 6))\n",
        "plt.bar(variety_by_type.index, variety_by_type.values)\n",
        "plt.title('Variety by Type')\n",
        "plt.xlabel('Type')\n",
        "plt.ylabel('Count')\n",
        "plt.show()"
      ]
    },
    {
      "cell_type": "code",
      "execution_count": null,
      "metadata": {
        "id": "fzWAWq91f3mD",
        "outputId": "a4fa7ef3-799e-40bb-de43-89bd7c5c2474"
      },
      "outputs": [],
      "source": [
        "# Exploration de la variété par pays\n",
        "variety_by_country = df['country'].value_counts().head(10)\n",
        "plt.figure(figsize=(12, 6))\n",
        "variety_by_country.plot(kind='bar')\n",
        "plt.title('Variety by Country (Top 10)')\n",
        "plt.xlabel('Country')\n",
        "plt.ylabel('Count')\n",
        "plt.xticks(rotation=45)\n",
        "plt.show()"
      ]
    },
    {
      "cell_type": "code",
      "execution_count": null,
      "metadata": {
        "id": "oEWEeLv9f3mD",
        "outputId": "696e78e7-8878-4e82-ac67-b242ed8ab2b1"
      },
      "outputs": [],
      "source": [
        "import pandas as pd\n",
        "import matplotlib.pyplot as plt\n",
        "\n",
        "# Exploration de la variété par type\n",
        "variety_by_type = df['type'].value_counts().head(10)\n",
        "plt.figure(figsize=(8, 6))\n",
        "plt.bar(variety_by_type.index, variety_by_type.values)\n",
        "plt.title('Variety by Type')\n",
        "plt.xlabel('Type')\n",
        "plt.ylabel('Count')\n",
        "plt.show()"
      ]
    },
    {
      "cell_type": "code",
      "execution_count": null,
      "metadata": {
        "id": "WCfRt7ygf3mE",
        "outputId": "1fb089da-b2dc-4e0e-d58f-c6ccf453b3b2"
      },
      "outputs": [],
      "source": [
        "# Exploration de la variété par catégorie de contenu\n",
        "variety_by_listed_in = df['listed_in'].value_counts().head(10)\n",
        "plt.figure(figsize=(12, 6))\n",
        "variety_by_listed_in.plot(kind='bar')\n",
        "plt.title('Variety by Listed_in (Top 10)')\n",
        "plt.xlabel('Listed_in')\n",
        "plt.ylabel('Count')\n",
        "plt.xticks(rotation=45)\n",
        "plt.show()"
      ]
    },
    {
      "cell_type": "code",
      "execution_count": null,
      "metadata": {
        "id": "VLdTuOoSf3mE"
      },
      "outputs": [],
      "source": [
        "import pandas as pd\n",
        "from wordcloud import WordCloud\n",
        "from nltk.corpus import stopwords\n",
        "import matplotlib.pyplot as plt"
      ]
    },
    {
      "cell_type": "code",
      "execution_count": null,
      "metadata": {
        "id": "jYq8CKQzf3mE"
      },
      "outputs": [],
      "source": [
        "df=pd.read_csv(\"data/data.csv\")"
      ]
    },
    {
      "cell_type": "code",
      "execution_count": null,
      "metadata": {
        "id": "TL6pPCUWf3mF",
        "outputId": "ffdfe0fe-0614-4f5e-b86e-640608d1ef2e"
      },
      "outputs": [],
      "source": [
        "df.head(5)"
      ]
    },
    {
      "cell_type": "code",
      "execution_count": null,
      "metadata": {
        "id": "t2oQ0SROf3mF"
      },
      "outputs": [],
      "source": [
        "# Concatenate the descriptions into a single string\n",
        "descriptions = \" \".join(df['description'].dropna())"
      ]
    },
    {
      "cell_type": "code",
      "execution_count": null,
      "metadata": {
        "id": "ZziWNnYLf3mF",
        "outputId": "4709d055-19ff-4e7a-c8cd-6943ca4073c6"
      },
      "outputs": [],
      "source": [
        "df.description"
      ]
    },
    {
      "cell_type": "code",
      "execution_count": null,
      "metadata": {
        "id": "uO9BbTSxf3mG"
      },
      "outputs": [],
      "source": [
        "import nltk"
      ]
    },
    {
      "cell_type": "code",
      "execution_count": null,
      "metadata": {
        "id": "knk_5K1df3mG",
        "outputId": "5bdf56ab-f664-4dd9-fd90-2b223db8373a"
      },
      "outputs": [],
      "source": [
        "nltk.download()"
      ]
    },
    {
      "cell_type": "code",
      "execution_count": null,
      "metadata": {
        "id": "ea1Pez3-f3mG"
      },
      "outputs": [],
      "source": [
        "# Remove stopwords\n",
        "stop_words = set(stopwords.words('english'))\n",
        "filtered_descriptions = ' '.join([word for word in descriptions.split() if word.lower() not in stop_words])\n"
      ]
    },
    {
      "cell_type": "code",
      "execution_count": null,
      "metadata": {
        "id": "af0WXMFxf3mG"
      },
      "outputs": [],
      "source": [
        "# Create the word cloud\n",
        "wordcloud = WordCloud(stopwords=stop_words, background_color='white').generate(filtered_descriptions)"
      ]
    },
    {
      "cell_type": "code",
      "execution_count": null,
      "metadata": {
        "id": "W4-oGb3qf3mG",
        "outputId": "ead39a90-9b77-4c1e-de36-b30b1886409a"
      },
      "outputs": [],
      "source": [
        "# Display the word cloud\n",
        "plt.imshow(wordcloud, interpolation='bilinear')\n",
        "plt.axis('off')\n",
        "plt.show()"
      ]
    },
    {
      "cell_type": "code",
      "execution_count": null,
      "metadata": {
        "id": "A2ToLM7rf3mG"
      },
      "outputs": [],
      "source": [
        "# Customizations for the word cloud\n",
        "wordcloud = WordCloud(\n",
        "    stopwords=stop_words,\n",
        "    background_color='white',\n",
        "    width=800,\n",
        "    height=600,\n",
        "    max_words=100,\n",
        "    colormap='cool',\n",
        "    prefer_horizontal=0.8,\n",
        "    random_state=42\n",
        ").generate(filtered_descriptions)"
      ]
    },
    {
      "cell_type": "code",
      "execution_count": null,
      "metadata": {
        "id": "mmQJIy5Nf3mG",
        "outputId": "cdfbea39-5173-4031-e634-6dbeaa0202ff"
      },
      "outputs": [],
      "source": [
        "# Display the word cloud\n",
        "plt.figure(figsize=(10, 8))\n",
        "plt.imshow(wordcloud, interpolation='bilinear')\n",
        "plt.axis('off')\n",
        "plt.tight_layout()\n",
        "plt.show()"
      ]
    },
    {
      "cell_type": "code",
      "execution_count": null,
      "metadata": {
        "id": "4qbQfsLxf3mH",
        "outputId": "adfda280-f6cb-43bf-db94-3bc206442341"
      },
      "outputs": [],
      "source": [
        "import matplotlib.pyplot as plt\n",
        "fig = plt.figure()\n"
      ]
    },
    {
      "cell_type": "code",
      "execution_count": null,
      "metadata": {
        "id": "50XfQZmrf3mH"
      },
      "outputs": [],
      "source": [
        "movies = df[df['type'] == 'Movie']\n"
      ]
    },
    {
      "cell_type": "code",
      "execution_count": null,
      "metadata": {
        "id": "JXpYLXYXf3mH"
      },
      "outputs": [],
      "source": [
        "movies = movies.sort_values('release_year')\n"
      ]
    },
    {
      "cell_type": "code",
      "execution_count": null,
      "metadata": {
        "id": "bRKSxtBKf3mH"
      },
      "outputs": [],
      "source": [
        "cumulative_counts = range(1, len(movies) + 1)\n",
        "cumulative_percentages = [count / len(movies) * 100 for count in cumulative_counts]\n"
      ]
    },
    {
      "cell_type": "code",
      "execution_count": null,
      "metadata": {
        "id": "Mjc9uEw7f3mH",
        "outputId": "601fa6e3-1ad9-45a9-c5af-94e615a43f97"
      },
      "outputs": [],
      "source": [
        "plt.figure(figsize=(10, 6))\n",
        "plt.plot(movies['release_year'], cumulative_percentages)\n",
        "plt.title('Cumulative Distribution of Movies on Netflix')\n",
        "plt.xlabel('Release Year')\n",
        "plt.ylabel('Cumulative Percentage')\n",
        "plt.xticks(rotation=45)\n",
        "plt.show()\n"
      ]
    },
    {
      "cell_type": "code",
      "execution_count": null,
      "metadata": {
        "id": "fdII5oLof3mH",
        "outputId": "42a2968a-db07-4e8a-d297-34ad1fb4f216"
      },
      "outputs": [],
      "source": [
        "# Print the DataFrame\n",
        "print(durations_df)"
      ]
    },
    {
      "cell_type": "code",
      "execution_count": null,
      "metadata": {
        "id": "i9Z1wEzSf3mH",
        "outputId": "bacfae75-9c78-4f88-c00e-9f5d8ccf6943"
      },
      "outputs": [],
      "source": [
        "#type of variables\n",
        "\n",
        "df.info()"
      ]
    },
    {
      "cell_type": "code",
      "execution_count": null,
      "metadata": {
        "id": "AXz8sQ1Mf3mI",
        "outputId": "838ab8a6-f5c7-4215-ab64-12265ae9f877"
      },
      "outputs": [],
      "source": [
        "#checking for values NA\n",
        "df.isna().sum().sort_values().to_frame(name = \"NA\")"
      ]
    },
    {
      "cell_type": "code",
      "execution_count": null,
      "metadata": {
        "id": "WgJ80z2Uf3mI",
        "outputId": "53407b4d-7fe6-4348-886c-8b0ff82ae8e6"
      },
      "outputs": [],
      "source": [
        "df.select_dtypes(include=['object']).describe().T"
      ]
    },
    {
      "cell_type": "code",
      "execution_count": null,
      "metadata": {
        "id": "yUBqjQwAf3mM",
        "outputId": "fed9e9a3-3e86-488b-9636-b7e3f9529746"
      },
      "outputs": [],
      "source": [
        "#List_filter = ['Children & Family Movies','Documentaries','Stand-Up Comedy']\n",
        "\n",
        "# Subset the DataFrame for type \"Movie\"\n",
        "df_movies_only = df[(df['type'] == 'Movie')] #& (netflix_df_movies_only['listed_in'].isin(List_filter))]\n",
        "\n",
        "# Select only the columns of interest\n",
        "netflix_movies_col_subset = df_movies_only.iloc[:,[2,5,10,7,9]]\n",
        "\n",
        "# drop string 'min' of the column duration and convert on float\n",
        "netflix_movies_col_subset['duration'] = df_movies_only['duration'].str.replace('min','').astype(float)\n",
        "\n",
        "# Print the first five rows of the new DataFrame\n",
        "netflix_movies_col_subset.head(5)"
      ]
    },
    {
      "cell_type": "code",
      "execution_count": null,
      "metadata": {
        "id": "EpXRX0Rwf3mM",
        "outputId": "74848b18-7620-4449-ef38-d3b9219cff69"
      },
      "outputs": [],
      "source": [
        "# Create a figure and increase the figure size\n",
        "fig = plt.figure(figsize=(12,8))"
      ]
    },
    {
      "cell_type": "code",
      "execution_count": null,
      "metadata": {
        "id": "0OsgDPJBf3mN"
      },
      "outputs": [],
      "source": [
        "import matplotlib.pyplot as plt"
      ]
    },
    {
      "cell_type": "code",
      "execution_count": null,
      "metadata": {
        "id": "EnZ8fjTGf3mN",
        "outputId": "473a5bb5-7a92-4d9e-83ea-e6d22fa3b660"
      },
      "outputs": [],
      "source": [
        "netflix_movies_col_subset.head(3)"
      ]
    },
    {
      "cell_type": "code",
      "execution_count": null,
      "metadata": {
        "id": "JeeIcDY_f3mN",
        "outputId": "a99bbb9b-f657-4707-be3b-be6e9e109d41"
      },
      "outputs": [],
      "source": [
        "# Create a scatter plot of duration versus year\n",
        "plt.scatter(x=netflix_movies_col_subset['date_added'], y=netflix_movies_col_subset['duration'])\n",
        "plt.xlabel('Date added')\n",
        "plt.ylabel('Duration')\n",
        "plt.title('Duration vs. date added')\n",
        "plt.show()"
      ]
    },
    {
      "cell_type": "code",
      "execution_count": null,
      "metadata": {
        "id": "LJkEyfi1f3mN",
        "outputId": "e177f25e-54a6-47ba-d08d-cbfcd1f95138"
      },
      "outputs": [],
      "source": [
        " # Nombre total de series disponible en france entre 2013\n",
        " #Nombre total de serie disponible en Frace entre 2013\n",
        "  df[df[\"type\"] == \"TV Series\"][df[\"release year\"] >= 2014][\"title\"].count())"
      ]
    },
    {
      "cell_type": "code",
      "execution_count": null,
      "metadata": {
        "id": "ywYAXJS6f3mN"
      },
      "outputs": [],
      "source": [
        "subset = df[['release_year', 'listed_in', 'rating']]\n"
      ]
    },
    {
      "cell_type": "code",
      "execution_count": null,
      "metadata": {
        "id": "d9fn_vKyf3mN"
      },
      "outputs": [],
      "source": [
        "current_year = pd.Timestamp.now().year\n",
        "recent_subset = subset[subset['release_year'] >= current_year - 5]\n"
      ]
    },
    {
      "cell_type": "code",
      "execution_count": null,
      "metadata": {
        "id": "XTS3TeFof3mN",
        "outputId": "0beca116-ccdf-4a43-9b66-336f13f023ef"
      },
      "outputs": [],
      "source": [
        "genre_counts = recent_subset['listed_in'].value_counts().head(10)\n",
        "plt.figure(figsize=(10, 6))\n",
        "genre_counts.plot(kind='bar')\n",
        "plt.title('Genre Investment in Recent Years')\n",
        "plt.xlabel('Genre')\n",
        "plt.ylabel('Count')\n",
        "plt.show()\n"
      ]
    },
    {
      "cell_type": "code",
      "execution_count": null,
      "metadata": {
        "id": "PThywgIwf3mO",
        "outputId": "474292a7-62bf-454e-d411-38eb7b804996"
      },
      "outputs": [],
      "source": [
        "age_counts = recent_subset['rating'].value_counts().sort_index()\n",
        "plt.figure(figsize=(10, 6))\n",
        "age_counts.plot(kind='bar')\n",
        "plt.title('Age Group Investment in Recent Years')\n",
        "plt.xlabel('Age Group')\n",
        "plt.ylabel('Count')\n",
        "plt.show()\n"
      ]
    },
    {
      "cell_type": "code",
      "execution_count": null,
      "metadata": {
        "id": "bnQ55zoVf3mO",
        "outputId": "01d7ba54-402d-48e7-ac57-bc3ecf947b77"
      },
      "outputs": [],
      "source": [
        "# Filtration\n",
        "tv_shows = df[df['type'] == 'TV Show']\n",
        "\n",
        "# Triez les tv show par année\n",
        "grouped_tv_shows = tv_shows.groupby('release_year').size().sort_values(ascending=False)\n",
        "# Traçage\n",
        "plt.figure(figsize=(10, 6))\n",
        "grouped_tv_shows.plot(kind='bar')\n",
        "plt.title('Distribution of TV Shows on Netflix')\n",
        "plt.xlabel('Genre')\n",
        "plt.ylabel('Count')\n",
        "plt.xticks(rotation=45)\n",
        "plt.show()\n"
      ]
    },
    {
      "cell_type": "code",
      "execution_count": null,
      "metadata": {
        "id": "fC8Zid2Vf3mO"
      },
      "outputs": [],
      "source": []
    }
  ],
  "metadata": {
    "colab": {
      "include_colab_link": true,
      "provenance": []
    },
    "kernelspec": {
      "display_name": "base",
      "language": "python",
      "name": "python3"
    },
    "language_info": {
      "codemirror_mode": {
        "name": "ipython",
        "version": 3
      },
      "file_extension": ".py",
      "mimetype": "text/x-python",
      "name": "python",
      "nbconvert_exporter": "python",
      "pygments_lexer": "ipython3",
      "version": "3.9.13"
    },
    "orig_nbformat": 4
  },
  "nbformat": 4,
  "nbformat_minor": 0
}
